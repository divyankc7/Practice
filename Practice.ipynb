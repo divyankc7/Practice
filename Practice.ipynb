{
 "cells": [
  {
   "cell_type": "code",
   "execution_count": null,
   "id": "fef5c52d",
   "metadata": {},
   "outputs": [],
   "source": [
    "x = int(input('Give me a number: '))\n",
    "\n",
    "def CheckEvenOdd(x):\n",
    "    if x % 2 == 0:\n",
    "        return 'Even'\n",
    "    else: \n",
    "        return 'Odd'\n",
    "\n",
    "result = CheckEvenOdd(x)\n",
    "print(result)"
   ]
  },
  {
   "cell_type": "markdown",
   "id": "5ec41515",
   "metadata": {},
   "source": [
    "###  Generate a list of the first  fibonacci numbers,  being the first number. Then, apply the map function and a lambda expression to cube each fibonacci number and print the list.\n",
    "\n"
   ]
  },
  {
   "cell_type": "code",
   "execution_count": null,
   "id": "31452359",
   "metadata": {},
   "outputs": [],
   "source": [
    "cube = lambda x: x**3"
   ]
  },
  {
   "cell_type": "code",
   "execution_count": null,
   "id": "104149db",
   "metadata": {},
   "outputs": [],
   "source": [
    "n = int(input('Enter a number upto which you want a fibonacci series'))\n",
    "\n",
    "def fibonacci(n):\n",
    "    f = []\n",
    "    a, b = 0, 1\n",
    "    for i in range(n):\n",
    "        f.append(a)\n",
    "        a, b = b, a + b\n",
    "    return f\n",
    "\n",
    "result = fibonacci(n)\n",
    "print(result)"
   ]
  },
  {
   "cell_type": "markdown",
   "id": "521aa377",
   "metadata": {},
   "source": [
    "### Given a year, determine whether it is a leap year. If it is a leap year, return the Boolean True, otherwise return False."
   ]
  },
  {
   "cell_type": "code",
   "execution_count": null,
   "id": "8ea0dacd",
   "metadata": {},
   "outputs": [],
   "source": [
    "year = int(input('Enter a year: '))\n",
    "\n",
    "def is_leap(year):\n",
    "    leap = False\n",
    "    \n",
    "    if year % 400 == 0:\n",
    "        leap = True\n",
    "    elif (year % 4 == 0) and (year % 100 != 0):\n",
    "        leap = True\n",
    "    else:\n",
    "        pass\n",
    "    return leap\n",
    "\n",
    "result = is_leap(year)\n",
    "print(result)"
   ]
  },
  {
   "cell_type": "markdown",
   "id": "01173bf3",
   "metadata": {},
   "source": [
    "### Given two integer variables a and b, and a boolean variable flag. The task is to check the status and return accordingly.\n",
    "Return True for the following cases:\n",
    "\n",
    "Either a or b (not both) is non-negative and the flag is false.\n",
    "Both a and b are negative and the flag is true.\n",
    "Otherwise, return false."
   ]
  },
  {
   "cell_type": "code",
   "execution_count": null,
   "id": "517b1ca3",
   "metadata": {},
   "outputs": [],
   "source": [
    "a = int(input('1st number: '))\n",
    "b = int(input('2nd number: '))\n",
    "flag = input('Flag: ')\n",
    "\n",
    "def status(a, b, flag):\n",
    "    if (a >= 0 and b < 0) or (a < 0 and b >= 0) and flag == False:\n",
    "        return True\n",
    "    elif a < 0 and b < 0 and flag == True:\n",
    "        return True\n",
    "    else:\n",
    "        return False\n",
    "    \n",
    "status = status(a, b, flag)\n",
    "print(status)"
   ]
  },
  {
   "cell_type": "code",
   "execution_count": null,
   "id": "2af695d3",
   "metadata": {},
   "outputs": [],
   "source": [
    "j_angry = str(input('j_angry: '))\n",
    "s_angry = str(input('s_angry: '))\n",
    "\n",
    "def friends_in_trouble(j_angry, s_angry):\n",
    "    if j_angry == 'True' and s_angry == 'True':\n",
    "        return True\n",
    "    elif j_angry == 'False' and s_angry == 'False':\n",
    "        return True\n",
    "    else:\n",
    "        return False\n",
    "\n",
    "result = friends_in_trouble(j_angry, s_angry)\n",
    "print(result)"
   ]
  },
  {
   "cell_type": "code",
   "execution_count": null,
   "id": "a3feec36",
   "metadata": {},
   "outputs": [],
   "source": [
    "str = str(input('Enter a string: '))\n",
    "\n",
    "def cat_hat(str):\n",
    "    if str.count('cat') == str.count('hat'):\n",
    "        return True\n",
    "    else:\n",
    "        return False\n",
    "\n",
    "result = cat_hat(str)\n",
    "print(result)"
   ]
  },
  {
   "cell_type": "code",
   "execution_count": null,
   "id": "ce663734",
   "metadata": {},
   "outputs": [],
   "source": [
    "table_of_5 = [x*5 for x in range(1,11)]\n",
    "for i in table_of_5:\n",
    "    print(i)"
   ]
  },
  {
   "cell_type": "code",
   "execution_count": null,
   "id": "807b8f71",
   "metadata": {},
   "outputs": [],
   "source": [
    "string = input('Give me a string: ')\n",
    "\n",
    "even_indices = [i for i in range(len(string)) if i % 2 == 0]\n",
    "for j in even_indices:\n",
    "    print(string[j])"
   ]
  },
  {
   "cell_type": "code",
   "execution_count": null,
   "id": "93ee42e0",
   "metadata": {
    "scrolled": false
   },
   "outputs": [],
   "source": [
    "x = int(input('Enter a number: '))\n",
    "\n",
    "while x >= 0:\n",
    "    print(x)\n",
    "    x -= 1"
   ]
  },
  {
   "cell_type": "code",
   "execution_count": null,
   "id": "17435019",
   "metadata": {},
   "outputs": [],
   "source": [
    "x = int(input('Give me a number: '))\n",
    "\n",
    "i = 1\n",
    "while i**2 <= x:\n",
    "    print(i**2)\n",
    "    i += 1"
   ]
  },
  {
   "cell_type": "code",
   "execution_count": null,
   "id": "1138038f",
   "metadata": {},
   "outputs": [],
   "source": [
    "n = int(input('Enter a number: '))\n",
    "\n",
    "\n",
    "def Zero_converter(n):\n",
    "    result = []\n",
    "    while n > 0:\n",
    "        n = n-1\n",
    "        result.append(n)\n",
    "    while n < 0:\n",
    "        n = n + 1\n",
    "        result.append(n)\n",
    "    return result\n",
    "    \n",
    "result = Zero_converter(n)\n",
    "print(result)"
   ]
  },
  {
   "cell_type": "code",
   "execution_count": null,
   "id": "5a18cb1a",
   "metadata": {},
   "outputs": [],
   "source": [
    "list_input = input('Enter a list of number separated by spaces: ')\n",
    "input_list = list(map(int, list_input.split()))\n",
    "\n",
    "def replaced_list(input_list):\n",
    "    r_list = []\n",
    "    for i in input_list:\n",
    "        if i % 2 == 0:\n",
    "            r_list.append(i)\n",
    "        else:\n",
    "            r_list.append(-1)\n",
    "    return r_list\n",
    "\n",
    "result = replaced_list(input_list)\n",
    "print(result)"
   ]
  },
  {
   "cell_type": "code",
   "execution_count": null,
   "id": "21713764",
   "metadata": {},
   "outputs": [],
   "source": [
    "list_input = input('Enter a list: ')\n",
    "input_list = list(map(int, list_input.split()))\n",
    "\n",
    "boolean_list = [bool(x) for x in input_list]\n",
    "print(boolean_list)"
   ]
  },
  {
   "cell_type": "code",
   "execution_count": null,
   "id": "27a66ad6",
   "metadata": {},
   "outputs": [],
   "source": [
    "list_input = input('Enter a list: ')\n",
    "input_list = list(map(int, list_input.split()))\n",
    "\n",
    "negative_list = [- x if x % 2 == 0 else x for x in input_list]\n",
    "print(negative_list)"
   ]
  },
  {
   "cell_type": "code",
   "execution_count": null,
   "id": "8c61c38b",
   "metadata": {},
   "outputs": [],
   "source": [
    "list_input = input('Enter a list: ')\n",
    "input_list = list(map(int, list_input.split()))\n",
    "\n",
    "indices_list = []\n",
    "for i in range(len(input_list)):\n",
    "    if input_list[i] != 0:\n",
    "        indices_list.append(i)\n",
    "    \n",
    "print(indices_list)"
   ]
  },
  {
   "cell_type": "code",
   "execution_count": null,
   "id": "b47ad99e",
   "metadata": {},
   "outputs": [],
   "source": [
    "list_input = input('Enter a list: ')\n",
    "input_list = list(map(int, list_input.split()))\n",
    "\n",
    "reversed_list = input_list[::-1]\n",
    "print(reversed_list)"
   ]
  },
  {
   "cell_type": "code",
   "execution_count": 6,
   "id": "bca6e48b",
   "metadata": {},
   "outputs": [
    {
     "name": "stdout",
     "output_type": "stream",
     "text": [
      "Enter a number: 10\n",
      "Factorial of the number is: 3628800\n"
     ]
    }
   ],
   "source": [
    "n = int(input('Enter a number: '))\n",
    "\n",
    "def factorial(n):\n",
    "    if n == 0:\n",
    "        return 1\n",
    "    else:\n",
    "        return n * factorial(n-1)\n",
    "\n",
    "print(f\"Factorial of the number is: {factorial(n)}\")"
   ]
  },
  {
   "cell_type": "code",
   "execution_count": null,
   "id": "d8328e73",
   "metadata": {},
   "outputs": [],
   "source": [
    "num1 = int(input('Enter the first number: '))\n",
    "num2 = int(input('Enter the second number: '))\n",
    "num3 = int(input('Enter the third number: '))\n",
    "\n",
    "def largest_number(num1, num2, num3):\n",
    "    largest_num = max(num1, num2, num3)\n",
    "    return largest_num\n",
    "\n",
    "print(f\"The largest number amongst the three numbers is: {largest_number(num1, num2, num3)}\")"
   ]
  },
  {
   "cell_type": "code",
   "execution_count": null,
   "id": "a29efc59",
   "metadata": {},
   "outputs": [],
   "source": [
    "for i in range(2, 21, 2):\n",
    "    print(i)"
   ]
  },
  {
   "cell_type": "code",
   "execution_count": null,
   "id": "dddf3701",
   "metadata": {},
   "outputs": [],
   "source": [
    "n = int(input('Enter the number: '))\n",
    "\n",
    "sum_result = sum(range(1, n+1))\n",
    "        \n",
    "print(sum_result)"
   ]
  },
  {
   "cell_type": "code",
   "execution_count": null,
   "id": "d3d8a465",
   "metadata": {},
   "outputs": [],
   "source": [
    "list_input = input('Enter a list: ')\n",
    "input_list = list(map(int, list_input.split()))\n",
    "\n",
    "reversed_list = input_list[::-1]\n",
    "print(reversed_list)"
   ]
  },
  {
   "cell_type": "code",
   "execution_count": 1,
   "id": "ac40ce05",
   "metadata": {},
   "outputs": [
    {
     "name": "stdout",
     "output_type": "stream",
     "text": [
      "Enter a list: 1 2 3 3 4 5 6 7 2 1\n",
      "[1, 2, 3, 4, 5, 6, 7]\n"
     ]
    }
   ],
   "source": [
    "list_input = input('Enter a list: ')\n",
    "input_list = list(map(int, list_input.split()))\n",
    "\n",
    "no_dup_list = list(set(input_list))\n",
    "print(no_dup_list)"
   ]
  },
  {
   "cell_type": "code",
   "execution_count": 4,
   "id": "c49e7012",
   "metadata": {},
   "outputs": [
    {
     "name": "stdout",
     "output_type": "stream",
     "text": [
      "Enter a number: 571\n",
      "True\n"
     ]
    }
   ],
   "source": [
    "n = int(input('Enter a number: '))\n",
    "\n",
    "def is_prime(n):\n",
    "    if n <= 1:\n",
    "        return False\n",
    "    else:\n",
    "        for i in range(2, int(n**0.5)+1):\n",
    "            if n % i == 0:\n",
    "                return False\n",
    "        return True\n",
    "\n",
    "result = is_prime(n)\n",
    "print(result)"
   ]
  },
  {
   "cell_type": "code",
   "execution_count": 5,
   "id": "c2860429",
   "metadata": {},
   "outputs": [
    {
     "name": "stdout",
     "output_type": "stream",
     "text": [
      "Enter the radius: 10\n",
      "314.1592653589793\n"
     ]
    }
   ],
   "source": [
    "import math\n",
    "radius = float(input('Enter the radius: '))\n",
    "\n",
    "area = math.pi * radius**2\n",
    "print(area)"
   ]
  },
  {
   "cell_type": "code",
   "execution_count": 6,
   "id": "067cbc5f",
   "metadata": {},
   "outputs": [
    {
     "name": "stdout",
     "output_type": "stream",
     "text": [
      "Enter a string: a dog liked his log\n",
      "a dog Liked his Log\n"
     ]
    }
   ],
   "source": [
    "string = input('Enter a string: ')\n",
    "\n",
    "new_string = string.replace('l', 'L')\n",
    "print(new_string)"
   ]
  },
  {
   "cell_type": "code",
   "execution_count": 8,
   "id": "d4486368",
   "metadata": {},
   "outputs": [
    {
     "name": "stdout",
     "output_type": "stream",
     "text": [
      "Enter a list: 1 2 3 4 11\n",
      "Max element of the list is: 11\n"
     ]
    }
   ],
   "source": [
    "list_input = input('Enter a list: ')\n",
    "input_list = list(map(int, list_input.split()))\n",
    "\n",
    "max_element = max(input_list)\n",
    "    \n",
    "print(f\"Max element of the list is: {max_element}\")"
   ]
  },
  {
   "cell_type": "code",
   "execution_count": 11,
   "id": "2b71dcfd",
   "metadata": {},
   "outputs": [
    {
     "name": "stdout",
     "output_type": "stream",
     "text": [
      "Enter a number: 10\n",
      "Square root of the number is 3.1622776601683795\n"
     ]
    }
   ],
   "source": [
    "import math\n",
    "n = int(input('Enter a number: '))\n",
    "\n",
    "sqr_root = math.sqrt(n)\n",
    "print(f\"Square root of the number is {sqr_root}\")"
   ]
  },
  {
   "cell_type": "code",
   "execution_count": 12,
   "id": "0ae7c1da",
   "metadata": {},
   "outputs": [
    {
     "name": "stdout",
     "output_type": "stream",
     "text": [
      "Enter the base number: 10\n",
      "Enter the power: 3\n",
      "1000.0\n"
     ]
    }
   ],
   "source": [
    "base = float(input('Enter the base number: '))\n",
    "power = float(input('Enter the power: '))\n",
    "\n",
    "power_result = base**power\n",
    "print(power_result)"
   ]
  },
  {
   "cell_type": "code",
   "execution_count": 2,
   "id": "3b61cac0",
   "metadata": {},
   "outputs": [
    {
     "name": "stdout",
     "output_type": "stream",
     "text": [
      "Enter a sentence: I am a bitch\n",
      "Length of the longest word is 5\n"
     ]
    }
   ],
   "source": [
    "sentence = input('Enter a sentence: ')\n",
    "words = sentence.split()\n",
    "\n",
    "max_length = max([len(word) for word in words])\n",
    "print(f\"Length of the longest word is {max_length}\")"
   ]
  },
  {
   "cell_type": "code",
   "execution_count": 7,
   "id": "04a007f1",
   "metadata": {},
   "outputs": [
    {
     "name": "stdout",
     "output_type": "stream",
     "text": [
      "Enter a number: 10\n",
      "It is not a perfect square\n"
     ]
    }
   ],
   "source": [
    "n = int(input('Enter a number: '))\n",
    "\n",
    "def perfect_square(n):\n",
    "    if int(n**0.5)**2 == n:\n",
    "        print('It is a perfect square')\n",
    "    else:\n",
    "        print('It is not a perfect square')\n",
    "\n",
    "perfect_square(n)"
   ]
  },
  {
   "cell_type": "code",
   "execution_count": 8,
   "id": "8f0c6b31",
   "metadata": {},
   "outputs": [
    {
     "name": "stdout",
     "output_type": "stream",
     "text": [
      "Enter the first list: 1 2 3 4 5 6 7 \n",
      "Enter the second list: 2 4 6\n",
      "[2, 4, 6]\n"
     ]
    }
   ],
   "source": [
    "list_input1 = input('Enter the first list: ')\n",
    "input_list1 = list(map(int, list_input1.split()))\n",
    "\n",
    "list_input2 = input('Enter the second list: ')\n",
    "input_list2 = list(map(int, list_input2.split()))\n",
    "\n",
    "common_elements = list(set(input_list1) & set(input_list2))\n",
    "print(common_elements)"
   ]
  },
  {
   "cell_type": "code",
   "execution_count": 1,
   "id": "3cd4c29f",
   "metadata": {},
   "outputs": [
    {
     "name": "stdout",
     "output_type": "stream",
     "text": [
      "Enter a number: 10\n",
      "Fibonacci sequence: [0, 1, 1, 2, 3, 5, 8, 13, 21, 34]\n"
     ]
    }
   ],
   "source": [
    "n = int(input('Enter a number: '))\n",
    "\n",
    "def Fibonacci(n):\n",
    "    sequence = []\n",
    "    a, b = 0, 1\n",
    "    for i in range(n):\n",
    "        sequence.append(a)\n",
    "        a, b = b, a + b\n",
    "    return sequence\n",
    "\n",
    "print(f\"Fibonacci sequence: {Fibonacci(n)}\")"
   ]
  },
  {
   "cell_type": "code",
   "execution_count": 5,
   "id": "5ae4bb0e",
   "metadata": {},
   "outputs": [
    {
     "name": "stdout",
     "output_type": "stream",
     "text": [
      "Enter a number: 10\n",
      "Fibonacci sequence: [0, 1, 1, 2, 3, 5, 8, 13, 21, 34]\n"
     ]
    }
   ],
   "source": [
    "n = int(input('Enter a number: '))\n",
    "\n",
    "def Fibonacci(n):\n",
    "    Fib_seq = [0, 1]\n",
    "    while len(Fib_seq) < n:\n",
    "        Fib_seq.append(Fib_seq[-1] + Fib_seq[-2])\n",
    "    return Fib_seq\n",
    "\n",
    "print(f\"Fibonacci sequence: {Fibonacci(n)}\")"
   ]
  },
  {
   "cell_type": "code",
   "execution_count": 3,
   "id": "1ce11b58",
   "metadata": {},
   "outputs": [
    {
     "name": "stdout",
     "output_type": "stream",
     "text": [
      "Enter a string: madam\n",
      "It is a palindrome\n"
     ]
    }
   ],
   "source": [
    "string = input('Enter a string: ')\n",
    "\n",
    "def is_palindrome(string):\n",
    "    reversed_string = string[::-1]\n",
    "    if reversed_string == string:\n",
    "        print('It is a palindrome')\n",
    "    else:\n",
    "        print('It is not a palindrome')\n",
    "    \n",
    "is_palindrome(string)"
   ]
  },
  {
   "cell_type": "code",
   "execution_count": 10,
   "id": "71e37fe9",
   "metadata": {},
   "outputs": [
    {
     "name": "stdout",
     "output_type": "stream",
     "text": [
      "Enter a number: 10\n",
      "Factorial of the number is 3628800\n"
     ]
    }
   ],
   "source": [
    "try:\n",
    "    n = int(input('Enter a number: '))\n",
    "    if n < 0:\n",
    "        print(\"Factorial is not defined for negative numbers.\")\n",
    "    else:\n",
    "        def factorial(n):\n",
    "            if n == 0:\n",
    "                return 1\n",
    "            else:\n",
    "                return n * factorial(n-1)\n",
    "        print(f\"Factorial of the number is {factorial(n)}\")\n",
    "except ValueError:\n",
    "    print(\"Invalid input! Enter an integer.\")"
   ]
  },
  {
   "cell_type": "code",
   "execution_count": 12,
   "id": "bb69e37c",
   "metadata": {},
   "outputs": [
    {
     "name": "stdout",
     "output_type": "stream",
     "text": [
      "Enter a list: 1 2  3 4 56 7 88 \n",
      "The largest element of the list is 88\n"
     ]
    }
   ],
   "source": [
    "list_input = input('Enter a list: ')\n",
    "input_list = list(map(int, list_input.split()))\n",
    "\n",
    "def largest_element(input_list):\n",
    "    largest = input_list[0]\n",
    "    for num in input_list:\n",
    "        if num > largest:\n",
    "            largest = num\n",
    "    return largest\n",
    "\n",
    "print(f\"The largest element of the list is {largest_element(input_list)}\")"
   ]
  },
  {
   "cell_type": "code",
   "execution_count": 15,
   "id": "35c147ce",
   "metadata": {},
   "outputs": [
    {
     "name": "stdout",
     "output_type": "stream",
     "text": [
      "Enter a list: 1 2 3 4 5 6 7 8 8 8 8 7 6 5 4 5 6 7 8\n"
     ]
    },
    {
     "data": {
      "text/plain": [
       "{1: 1, 2: 1, 3: 1, 4: 2, 5: 3, 6: 3, 7: 3, 8: 5}"
      ]
     },
     "execution_count": 15,
     "metadata": {},
     "output_type": "execute_result"
    }
   ],
   "source": [
    "list_input = input('Enter a list: ')\n",
    "input_list = list(map(int, list_input.split()))\n",
    "\n",
    "def freq_count(input_list):\n",
    "    freq = {}\n",
    "    for num in input_list:\n",
    "        if num in freq:\n",
    "            freq[num] += 1\n",
    "        else:\n",
    "            freq[num] = 1\n",
    "    return freq\n",
    "\n",
    "freq_count(input_list)"
   ]
  },
  {
   "cell_type": "code",
   "execution_count": 28,
   "id": "fa86d27e",
   "metadata": {},
   "outputs": [
    {
     "name": "stdout",
     "output_type": "stream",
     "text": [
      "Enter a number to check: 23\n",
      "True\n"
     ]
    }
   ],
   "source": [
    "try:\n",
    "    n = int(input('Enter a number to check: '))\n",
    "\n",
    "    def is_prime(n):\n",
    "        if n < 2:\n",
    "            return False\n",
    "        for i in range(2, int(n**0.5) + 1):\n",
    "                if n % i == 0:\n",
    "                    return False\n",
    "        return True\n",
    "\n",
    "    result = is_prime(n)\n",
    "    print(result)\n",
    "    \n",
    "except ValueError:\n",
    "    print('Invalid input! Please enter an integer.')"
   ]
  },
  {
   "cell_type": "code",
   "execution_count": 25,
   "id": "3832c70f",
   "metadata": {},
   "outputs": [
    {
     "name": "stdout",
     "output_type": "stream",
     "text": [
      "Enter the first list: 1 2 3 4 5\n",
      "Enter the second list: 4 5 6 7 8\n",
      "[4, 5]\n"
     ]
    }
   ],
   "source": [
    "list_input1 = input('Enter the first list: ')\n",
    "input_list1 = list(map(int, list_input1.split()))\n",
    "\n",
    "list_input2 = input('Enter the second list: ')\n",
    "input_list2 = list(map(int, list_input2.split()))\n",
    "\n",
    "common_elements = list(set(input_list1) & set(input_list2))\n",
    "print(common_elements)"
   ]
  },
  {
   "cell_type": "code",
   "execution_count": 30,
   "id": "52c4aa39",
   "metadata": {},
   "outputs": [
    {
     "name": "stdout",
     "output_type": "stream",
     "text": [
      "Enter a list: 1 2 3 4 5 6 7 5 6 7 1\n",
      "The second largest element of the list is 6\n"
     ]
    }
   ],
   "source": [
    "list_input = input('Enter a list: ')\n",
    "input_list = list(map(int, list_input.split()))\n",
    "\n",
    "def second_largest(input_list):\n",
    "    largest = float('-inf')\n",
    "    second_largest = float('-inf')\n",
    "    for num in input_list:\n",
    "        if num > largest:\n",
    "            second_largest = largest\n",
    "            largest = num\n",
    "        elif num > second_largest and num != largest:\n",
    "            second_largest = num\n",
    "    return second_largest\n",
    "\n",
    "print(f\"The second largest element of the list is {second_largest(input_list)}\")"
   ]
  },
  {
   "cell_type": "code",
   "execution_count": 3,
   "id": "5f366c41",
   "metadata": {},
   "outputs": [
    {
     "name": "stdout",
     "output_type": "stream",
     "text": [
      "Enter a string: Rounak Eshu\n",
      "The total number of vowels are 5\n",
      "The total number of consonants are 5\n"
     ]
    }
   ],
   "source": [
    "string = input('Enter a string: ')\n",
    "\n",
    "v = 0\n",
    "c = 0\n",
    "\n",
    "for i in string:\n",
    "    if i in ['a', 'A', 'e', 'E', 'i', 'I', 'o', 'O', 'u', 'U']:\n",
    "        v = v + 1\n",
    "    elif i == \" \":\n",
    "        pass\n",
    "    else:\n",
    "        c = c + 1\n",
    "        \n",
    "print(f\"The total number of vowels are {v}\")\n",
    "print(f\"The total number of consonants are {c}\")"
   ]
  },
  {
   "cell_type": "code",
   "execution_count": 4,
   "id": "a7cc1897",
   "metadata": {},
   "outputs": [
    {
     "name": "stdout",
     "output_type": "stream",
     "text": [
      "Enter the first list: 1 2 3 4 5\n",
      "Enter the second list: 2 3 4 5 5 6 7\n",
      "Total occurences 4\n"
     ]
    }
   ],
   "source": [
    "list_input1 = input('Enter the first list: ')\n",
    "input_list1 = list(map(int, list_input1.split()))\n",
    "\n",
    "list_input2 = input('Enter the second list: ')\n",
    "input_list2 = list(map(int, list_input2.split()))\n",
    "\n",
    "occ = 0\n",
    "\n",
    "for i in input_list1:\n",
    "    if i in input_list2:\n",
    "        occ = occ + 1\n",
    "        \n",
    "print(f\"Total occurences {occ}\")"
   ]
  },
  {
   "cell_type": "code",
   "execution_count": 8,
   "id": "5510d90e",
   "metadata": {},
   "outputs": [
    {
     "name": "stdout",
     "output_type": "stream",
     "text": [
      "Enter the first number: 1\n",
      "Enter the second number: 2\n",
      "2\n"
     ]
    }
   ],
   "source": [
    "a = int(input('Enter the first number: '))\n",
    "b = int(input('Enter the second number: '))\n",
    "\n",
    "def fn(a, b):\n",
    "    if (a % 2 == 0 and b % 2 == 0):\n",
    "        return min(a, b)\n",
    "    else:\n",
    "        return max(a, b)\n",
    "    \n",
    "result = fn(a, b)\n",
    "print(result)"
   ]
  },
  {
   "cell_type": "code",
   "execution_count": 10,
   "id": "f5267ff2",
   "metadata": {},
   "outputs": [
    {
     "name": "stdout",
     "output_type": "stream",
     "text": [
      "Enter a string: I am Dumb\n",
      "Total upper: 2\n",
      "Total lower: 5\n"
     ]
    }
   ],
   "source": [
    "string = input('Enter a string: ')\n",
    "\n",
    "u = 0\n",
    "l = 0\n",
    "\n",
    "for i in string:\n",
    "    if i == \" \":\n",
    "        pass\n",
    "    elif i.isupper():\n",
    "        u = u + 1\n",
    "    else:\n",
    "        l = l + 1\n",
    "\n",
    "print(f\"Total upper: {u}\")\n",
    "print(f\"Total lower: {l}\")"
   ]
  },
  {
   "cell_type": "code",
   "execution_count": 11,
   "id": "76334d3b",
   "metadata": {},
   "outputs": [
    {
     "name": "stdout",
     "output_type": "stream",
     "text": [
      "Enter the string: d1i1c1k1\n",
      "dick\n"
     ]
    }
   ],
   "source": [
    "string = input('Enter the string: ')\n",
    "\n",
    "result = \"\"\n",
    "\n",
    "for i in range(0, len(string), 2):\n",
    "    for j in range(int(string[i+1])):\n",
    "        result = result + string[i]\n",
    "        \n",
    "print(result)"
   ]
  },
  {
   "cell_type": "code",
   "execution_count": 12,
   "id": "f2619f29",
   "metadata": {},
   "outputs": [
    {
     "name": "stdout",
     "output_type": "stream",
     "text": [
      "Enter a string: She is super bhitch\n",
      "She super "
     ]
    }
   ],
   "source": [
    "string = input('Enter a string: ')\n",
    "\n",
    "words = string.split()\n",
    "\n",
    "for i in words :\n",
    "    if i.lower().startswith('s'):\n",
    "        print(i, end = \" \")"
   ]
  },
  {
   "cell_type": "code",
   "execution_count": 15,
   "id": "c9bf2682",
   "metadata": {},
   "outputs": [
    {
     "name": "stdout",
     "output_type": "stream",
     "text": [
      "Mausam : 31\n"
     ]
    }
   ],
   "source": [
    "dict = {'Shweta': 45, 'Mausam': 31, 'Pratik': 312, 'Pari': 400}\n",
    "\n",
    "for i, j in dict.items():\n",
    "    if (j % 2 != 0 and j < 45):\n",
    "        print(i, ':', j)"
   ]
  },
  {
   "cell_type": "code",
   "execution_count": 18,
   "id": "1939c44c",
   "metadata": {},
   "outputs": [
    {
     "name": "stdout",
     "output_type": "stream",
     "text": [
      "Enter a list: 1 2 3 4 5 6\n",
      "Total pairs with the given sum are 2\n"
     ]
    }
   ],
   "source": [
    "list_input = input('Enter a list: ')\n",
    "input_list = list(map(int, list_input.split()))\n",
    "\n",
    "sum = 6\n",
    "\n",
    "c = 0\n",
    "\n",
    "for i in range(0, len(input_list)):\n",
    "    for j in range(i + 1, len(input_list)):\n",
    "        if input_list[i] + input_list[j] == sum:\n",
    "            c = c + 1\n",
    "            \n",
    "print(f\"Total pairs with the given sum are {c}\")"
   ]
  },
  {
   "cell_type": "code",
   "execution_count": 3,
   "id": "95cf97cb",
   "metadata": {},
   "outputs": [
    {
     "name": "stdout",
     "output_type": "stream",
     "text": [
      "Enter the first string: \n",
      "Enter the second string: \n",
      "[]\n"
     ]
    }
   ],
   "source": [
    "s1 = input('Enter the first string: ')\n",
    "s2 = input('Enter the second string: ')\n",
    "\n",
    "common = list(set(s1) & set(s2))\n",
    "print(common)"
   ]
  },
  {
   "cell_type": "code",
   "execution_count": 1,
   "id": "c9d987ec",
   "metadata": {},
   "outputs": [
    {
     "name": "stdout",
     "output_type": "stream",
     "text": [
      "Enter a list: 1 2 3 4 5 6 8\n",
      "Enter a second list: 2 4 6 8\n",
      "Completely divisible\n"
     ]
    }
   ],
   "source": [
    "list_input1 = input('Enter a list: ')\n",
    "input_list1 = list(map(int, list_input1.split()))\n",
    "\n",
    "list_input2 = input('Enter a second list: ')\n",
    "input_list2 = list(map(int, list_input2.split()))\n",
    "\n",
    "pr = 1\n",
    "sm = 0\n",
    "\n",
    "for i,j in enumerate(input_list1):\n",
    "    if i % 2 == 0:\n",
    "        pr = pr * j\n",
    "\n",
    "for i, j in enumerate(input_list2):\n",
    "    if i % 2 != 0:\n",
    "        sm = sm + j\n",
    "\n",
    "if (pr % sm) == 0:\n",
    "    print('Completely divisible')\n",
    "else:\n",
    "    print('Not divisible')"
   ]
  },
  {
   "cell_type": "code",
   "execution_count": 6,
   "id": "2e3b1b4a",
   "metadata": {},
   "outputs": [
    {
     "name": "stdout",
     "output_type": "stream",
     "text": [
      "Enter a string: Fuck\n",
      "Enter the character: F\n",
      "Enter the replacement character: D\n",
      "Duck\n"
     ]
    }
   ],
   "source": [
    "string = input('Enter a string: ')\n",
    "chr = input('Enter the character: ')\n",
    "repl = input('Enter the replacement character: ')\n",
    "\n",
    "def rep(string, chr, repl):\n",
    "    return string.replace(chr, repl)\n",
    "\n",
    "result = rep(string, chr, repl)\n",
    "print(result)"
   ]
  },
  {
   "cell_type": "code",
   "execution_count": 10,
   "id": "538c0116",
   "metadata": {},
   "outputs": [
    {
     "name": "stdout",
     "output_type": "stream",
     "text": [
      "Enter a string: Hello\n",
      "Hll\n"
     ]
    }
   ],
   "source": [
    "vowels = ['a', 'e', 'i', 'o', 'u', 'A', 'E', 'I', 'O', 'U']\n",
    "\n",
    "string = input('Enter a string: ')\n",
    "\n",
    "def del_vow(string):\n",
    "    result = \"\"\n",
    "    for i in string:\n",
    "        if i not in vowels:\n",
    "            result = result + i\n",
    "    return result\n",
    "\n",
    "print(del_vow(string))"
   ]
  },
  {
   "cell_type": "code",
   "execution_count": 2,
   "id": "66883721",
   "metadata": {},
   "outputs": [
    {
     "name": "stdout",
     "output_type": "stream",
     "text": [
      "Enter a string: Hayloooooooo\n",
      "Maximum occuring character is o\n"
     ]
    }
   ],
   "source": [
    "string = input('Enter a string: ')\n",
    "\n",
    "dic = {}\n",
    "\n",
    "for i in string:\n",
    "    if i in dic:\n",
    "        dic[i] = dic[i] + 1\n",
    "    else:\n",
    "        dic[i] = 1\n",
    "        \n",
    "result = max(dic, key = dic.get)\n",
    "print(f\"Maximum occuring character is {result}\")"
   ]
  },
  {
   "cell_type": "code",
   "execution_count": 4,
   "id": "327e29c6",
   "metadata": {},
   "outputs": [
    {
     "name": "stdout",
     "output_type": "stream",
     "text": [
      "Enter a string: Hello world\n",
      "Max occuring character is l with frequency 3\n"
     ]
    }
   ],
   "source": [
    "string = input('Enter a string: ')\n",
    "\n",
    "string = string.lower()\n",
    "\n",
    "dic = {}\n",
    "\n",
    "for i in string:\n",
    "    if i != \" \":\n",
    "        if i in dic:\n",
    "            dic[i] = dic[i] + 1\n",
    "        else:    \n",
    "            dic[i] = 1\n",
    "\n",
    "max_freq = max(dic.values())\n",
    "\n",
    "max_chars = [char for char, freq in dic.items() if freq == max_freq]\n",
    "\n",
    "if len(max_chars) == 1:\n",
    "    print(f\"Max occuring character is {max_chars[0]} with frequency {max_freq}\")\n",
    "else:\n",
    "    print(f\"Characters with maximum frequency {max_freq} are: {', '.join(max_chars)}\")"
   ]
  },
  {
   "cell_type": "code",
   "execution_count": 9,
   "id": "14993639",
   "metadata": {},
   "outputs": [
    {
     "name": "stdout",
     "output_type": "stream",
     "text": [
      "Enter a string: 1 2 3\n",
      "2\n"
     ]
    }
   ],
   "source": [
    "list_input = input('Enter a string: ')\n",
    "input_list = list(map(int, list_input.split()))\n",
    "\n",
    "second_highest = sorted(input_list)[-2]\n",
    "print(second_highest)"
   ]
  },
  {
   "cell_type": "code",
   "execution_count": 2,
   "id": "26fdbbb3",
   "metadata": {},
   "outputs": [
    {
     "name": "stdout",
     "output_type": "stream",
     "text": [
      "Enter a string: Here we are\n",
      "Unique values:  ['are', 'Here', 'we']\n"
     ]
    }
   ],
   "source": [
    "user_input = input('Enter a string: ')\n",
    "input_list = user_input.split()\n",
    "\n",
    "def unique_values(input_list):\n",
    "    unique_list = list(set(input_list))\n",
    "    return unique_list\n",
    "\n",
    "try:\n",
    "    input_list = [int(i) for i in input_list]\n",
    "except ValueError:\n",
    "    pass\n",
    "\n",
    "result = unique_values(input_list)\n",
    "\n",
    "print(\"Unique values: \", result)"
   ]
  },
  {
   "cell_type": "code",
   "execution_count": 10,
   "id": "241dbd14",
   "metadata": {},
   "outputs": [
    {
     "name": "stdout",
     "output_type": "stream",
     "text": [
      "Enter the first list: there she is\n",
      "Enter the second list: there she goes\n",
      "['goes', 'there', 'is', 'she']\n"
     ]
    }
   ],
   "source": [
    "l1_list = input('Enter the first list: ')\n",
    "l1 = list(l1_list.split())\n",
    "\n",
    "l2_list = input('Enter the second list: ')\n",
    "l2 = list(l2_list.split())\n",
    "\n",
    "def unique_names(l1, l2):\n",
    "    l3 = l1 + l2\n",
    "    l3 = list(set(l3))\n",
    "    return l3\n",
    "\n",
    "print(unique_names(l1, l2))"
   ]
  },
  {
   "cell_type": "code",
   "execution_count": 7,
   "id": "cffbe48b",
   "metadata": {},
   "outputs": [
    {
     "name": "stdout",
     "output_type": "stream",
     "text": [
      "Enter an imput: 1\n",
      "Enter an imput: 2\n",
      "Enter an imput: 3\n",
      "Enter an imput: e\n",
      "Unique list: ['1', '2', '3']\n"
     ]
    }
   ],
   "source": [
    "l = []\n",
    "\n",
    "while True:\n",
    "    i = input('Enter an imput: ')\n",
    "    \n",
    "    if i.lower() == 'e':\n",
    "        break\n",
    "    else:\n",
    "        l.append(i)\n",
    "        \n",
    "l = sorted(list(set(l)))\n",
    "\n",
    "print(f\"Unique list: {l}\")"
   ]
  },
  {
   "cell_type": "code",
   "execution_count": 8,
   "id": "2c89a9fa",
   "metadata": {},
   "outputs": [
    {
     "name": "stdout",
     "output_type": "stream",
     "text": [
      "Enter an imput: 1.5\n",
      "Please enter a valid number!\n",
      "Enter an imput: 1\n",
      "Enter an imput: 1.5\n",
      "Please enter a valid number!\n",
      "Enter an imput: 1.1\n",
      "Please enter a valid number!\n",
      "Enter an imput: e\n",
      "Unique list: [1]\n"
     ]
    }
   ],
   "source": [
    "l = []\n",
    "\n",
    "while True:\n",
    "    i = input('Enter an imput: ')\n",
    "    \n",
    "    if i.lower() == 'e':\n",
    "        break\n",
    "    else:\n",
    "        try:\n",
    "            l.append(int(i))\n",
    "        except ValueError:\n",
    "            print(\"Please enter a valid number!\")\n",
    "        \n",
    "l = sorted(list(set(l)))\n",
    "\n",
    "print(f\"Unique list: {l}\")"
   ]
  },
  {
   "cell_type": "code",
   "execution_count": 18,
   "id": "4a80ae18",
   "metadata": {},
   "outputs": [
    {
     "name": "stdout",
     "output_type": "stream",
     "text": [
      "Inverted dictionary: {'Sweta': ['file.jpeg', 'file2.jpeg'], 'Shaw': ['file2.py']}\n"
     ]
    }
   ],
   "source": [
    "def group_by_owners(files):\n",
    "    inv = {}\n",
    "    for k,v in files.items():\n",
    "        keys = inv.setdefault(v, [])\n",
    "        keys.append(k)\n",
    "    return inv\n",
    "\n",
    "dictionary = {'file.jpeg': 'Sweta', 'file2.py': 'Shaw', 'file2.jpeg': 'Sweta'}\n",
    "\n",
    "dic1 = group_by_owners(dictionary)\n",
    "\n",
    "print(f\"Inverted dictionary: {dic1}\")"
   ]
  },
  {
   "cell_type": "code",
   "execution_count": 17,
   "id": "0dabd11d",
   "metadata": {},
   "outputs": [
    {
     "name": "stdout",
     "output_type": "stream",
     "text": [
      "Inverted dictionary: {'Sweta': ['file.jpeg', 'file2.jpeg'], 'Shaw': ['file2.py']}\n"
     ]
    }
   ],
   "source": [
    "def group_by_owners(files):\n",
    "    inv = {}\n",
    "    for k,v in files.items():\n",
    "        if v not in inv:\n",
    "            inv[v] = []   \n",
    "        inv[v].append(k)    # This step runs irrespective whether v is in inv{} or not. The condition above checks if there's a list already in the dictionary, if there does not exist one, it creates one so that we can append k to the list\n",
    "    return inv\n",
    "\n",
    "dictionary = {'file.jpeg': 'Sweta', 'file2.py': 'Shaw', 'file2.jpeg': 'Sweta'}\n",
    "\n",
    "dic1 = group_by_owners(dictionary)\n",
    "\n",
    "print(f\"Inverted dictionary: {dic1}\")"
   ]
  },
  {
   "cell_type": "code",
   "execution_count": 2,
   "id": "42de2678",
   "metadata": {},
   "outputs": [
    {
     "name": "stdout",
     "output_type": "stream",
     "text": [
      "Enter an element: 6\n",
      "Do you want to end? (yes/no): \n",
      "Enter an element: 28\n",
      "Do you want to end? (yes/no): \n",
      "Enter an element: 12\n",
      "Do you want to end? (yes/no): yes\n",
      "Perfect numbers indicator: [6, 28]\n"
     ]
    }
   ],
   "source": [
    "lst = []\n",
    "\n",
    "while True:\n",
    "    i = input('Enter an element: ')\n",
    "    try:\n",
    "        i = int(i)\n",
    "        lst.append(i)\n",
    "    except ValueError:\n",
    "        print(\"Please input a valid integer!\")\n",
    "        continue\n",
    "    Warning = input('Do you want to end? (yes/no): ')\n",
    "    if Warning.lower() == 'yes':\n",
    "        break\n",
    "\n",
    "def lper(lst):\n",
    "    perfect_numbers = []\n",
    "    for i in lst:\n",
    "        sum_divisors = 0\n",
    "        for j in range(1, i):\n",
    "            if (i%j ==0):\n",
    "                sum_divisors = sum_divisors + j\n",
    "        if (sum_divisors==i):\n",
    "            perfect_numbers.append(i)\n",
    "    return perfect_numbers\n",
    "\n",
    "result = lper(lst)\n",
    "print(f\"Perfect numbers indicator: {result}\")"
   ]
  },
  {
   "cell_type": "code",
   "execution_count": 2,
   "id": "8ad3861b",
   "metadata": {},
   "outputs": [
    {
     "name": "stdout",
     "output_type": "stream",
     "text": [
      "Enter an element: 1\n",
      "Do you want to end? (yes/no): \n",
      "Enter an element: 5\n",
      "Do you want to end? (yes/no): \n",
      "Enter an element: 1\n",
      "Do you want to end? (yes/no): \n",
      "Enter an element: 11\n",
      "Do you want to end? (yes/no): \n",
      "Enter an element: 6\n",
      "Do you want to end? (yes/no): \n",
      "Enter an element: 17\n",
      "Do you want to end? (yes/no): \n",
      "Enter an element: 21\n",
      "Do you want to end? (yes/no): \n",
      "Enter an element: 28\n",
      "Do you want to end? (yes/no): yes\n",
      "The list of perfect numbers is [6, 28]\n"
     ]
    }
   ],
   "source": [
    "lst = []\n",
    "\n",
    "while True:\n",
    "    i = input('Enter an element: ')\n",
    "    try:\n",
    "        i = int(i)\n",
    "        lst.append(i)\n",
    "    except ValueError:\n",
    "        print('Please input a valid integer!')\n",
    "        continue\n",
    "    Warning = input('Do you want to end? (yes/no): ')\n",
    "    if Warning == 'yes':\n",
    "        break\n",
    "\n",
    "def lper(lst):\n",
    "    perfect_numbers = []\n",
    "    for i in lst:\n",
    "        sum_divisors = 0\n",
    "        for j in range(1, i):\n",
    "            if i % j == 0:\n",
    "                sum_divisors = sum_divisors + j\n",
    "        if sum_divisors == i:\n",
    "            perfect_numbers.append(i)\n",
    "    return perfect_numbers\n",
    "\n",
    "print(f\"The list of perfect numbers is {lper(lst)}\")"
   ]
  },
  {
   "cell_type": "code",
   "execution_count": 11,
   "id": "7b377e5b",
   "metadata": {},
   "outputs": [
    {
     "name": "stdout",
     "output_type": "stream",
     "text": [
      "Sorted list: ['cyan', 'red', 'blue', 'olive green', 'pink', 'green', 'turquoise', 'silver']\n"
     ]
    }
   ],
   "source": [
    "def sort_list(list1, list2):\n",
    "    zipped_pairs = zip(list2, list1)\n",
    "    z = [x for _, x in sorted(zipped_pairs)]\n",
    "    return z\n",
    "\n",
    "x = [\"red\", \"blue\", \"pink\", \"green\", \"cyan\", \"olive green\", \"turquoise\", \"silver\"]\n",
    "y = [0, 1, 2, 3, 0, 2, 3, 4]\n",
    "\n",
    "result = sort_list(x, y)\n",
    "print(f\"Sorted list: {result}\")"
   ]
  },
  {
   "cell_type": "code",
   "execution_count": 14,
   "id": "4f810ada",
   "metadata": {},
   "outputs": [
    {
     "name": "stdout",
     "output_type": "stream",
     "text": [
      "[0, 2, 3, 5]\n"
     ]
    }
   ],
   "source": [
    "def list_index(l1, str1):\n",
    "    l2 = []\n",
    "    for n, i in enumerate(l1):\n",
    "        for j in i:\n",
    "            if j in str1:\n",
    "                l2.append(n)\n",
    "                break\n",
    "    return l2\n",
    "\n",
    "result = list_index(['Sweta', 'Joy', 'Shaw', 'Spain', 'Fly', 'India'], 'Sweta')\n",
    "print(result)"
   ]
  },
  {
   "cell_type": "code",
   "execution_count": 1,
   "id": "7a0820b7",
   "metadata": {},
   "outputs": [
    {
     "name": "stdout",
     "output_type": "stream",
     "text": [
      "Enter a string or an integer: 1\n",
      "Do you want to end? (yes/no): \n",
      "Enter a string or an integer: 22\n",
      "Do you want to end? (yes/no): \n",
      "Enter a string or an integer: 43\n",
      "Do you want to end? (yes/no): \n",
      "Enter a string or an integer: 55\n",
      "Do you want to end? (yes/no): \n",
      "Enter a string or an integer: Shit!\n",
      "Do you want to end? (yes/no): \n",
      "Enter a string or an integer: Madam\n",
      "Do you want to end? (yes/no): \n",
      "Enter a string or an integer: Hello\n",
      "Do you want to end? (yes/no): yes\n",
      "The resulting list is [1, 1, 0, 1, 0, 0, 0]\n"
     ]
    }
   ],
   "source": [
    "list1 = []\n",
    "\n",
    "while True:\n",
    "    i = input('Enter a string or an integer: ')\n",
    "    if i.isdigit() or isinstance(i, str):\n",
    "        list1.append(i)\n",
    "    else:\n",
    "        print('Enter a valid integer or string!')\n",
    "        continue\n",
    "    \n",
    "    Warning = input('Do you want to end? (yes/no): ')\n",
    "    if Warning == 'yes':\n",
    "        break\n",
    "\n",
    "def pal_list(list1):\n",
    "    result = []\n",
    "    for i in list1:\n",
    "        j = i[::-1]\n",
    "        if j == i:\n",
    "            result.append(1)\n",
    "        else:\n",
    "            result.append(0)\n",
    "    return result\n",
    "\n",
    "print(f\"The resulting list is {pal_list(list1)}\")"
   ]
  },
  {
   "cell_type": "code",
   "execution_count": 7,
   "id": "f21bdc83",
   "metadata": {},
   "outputs": [
    {
     "name": "stdout",
     "output_type": "stream",
     "text": [
      "Enter an integer: 2\n",
      "Do you want to end? (yes/no): \n",
      "Enter an integer: 4\n",
      "Do you want to end? (yes/no): \n",
      "Enter an integer: 6\n",
      "Do you want to end? (yes/no): \n",
      "Enter an integer: 7\n",
      "Do you want to end? (yes/no): \n",
      "Enter an integer: 9\n",
      "Do you want to end? (yes/no): \n",
      "Enter an integer: 11\n",
      "Do you want to end? (yes/no): \n",
      "Enter an integer: 12\n",
      "Do you want to end? (yes/no): \n",
      "Enter an integer: 14\n",
      "Do you want to end? (yes/no): \n",
      "Enter an integer: 16\n",
      "Do you want to end? (yes/no): yes\n",
      "The absolute difference between the two is: 9\n"
     ]
    }
   ],
   "source": [
    "list1 = []\n",
    "\n",
    "while True:\n",
    "    i = input('Enter an integer: ')\n",
    "    if i.isdigit():\n",
    "        list1.append(int(i))\n",
    "    else:\n",
    "        print('Enter a valid integer')\n",
    "        continue\n",
    "    Warning = input('Do you want to end? (yes/no): ')\n",
    "    if Warning == 'yes':\n",
    "        break\n",
    "\n",
    "def abs_diff(list1):\n",
    "    esum = 0\n",
    "    osum = 0\n",
    "    for n, i in enumerate(list1):\n",
    "        if n % 2 == 0:\n",
    "            esum = esum + i\n",
    "        else:\n",
    "            osum = osum + i\n",
    "    difference = abs(esum - osum)\n",
    "    return difference\n",
    "\n",
    "print(f\"The absolute difference between the two is: {abs_diff(list1)}\")"
   ]
  },
  {
   "cell_type": "code",
   "execution_count": 1,
   "id": "73af3425",
   "metadata": {},
   "outputs": [
    {
     "name": "stdout",
     "output_type": "stream",
     "text": [
      "Enter the number of layers: 5\n",
      "    * \n",
      "   * * \n",
      "  * * * \n",
      " * * * * \n",
      "* * * * * \n"
     ]
    }
   ],
   "source": [
    "def tri(n):\n",
    "    k = n - 1\n",
    "    for i in range(0, n):\n",
    "        for j in range(0, k):\n",
    "            print(end = \" \")\n",
    "        k = k - 1\n",
    "        for j in range(0, i + 1):\n",
    "            print(\"* \", end = \"\")\n",
    "        print(\"\\r\")\n",
    "        \n",
    "n = int(input('Enter the number of layers: '))\n",
    "tri(n)"
   ]
  },
  {
   "cell_type": "code",
   "execution_count": 4,
   "id": "60f7a839",
   "metadata": {},
   "outputs": [
    {
     "name": "stdout",
     "output_type": "stream",
     "text": [
      "Enter a number: 1\n",
      "Do you want to end? (yes/no): 3\n",
      "Enter a number: 4\n",
      "Do you want to end? (yes/no): 5\n",
      "Enter a number: 6\n",
      "Do you want to end? (yes/no): 9\n",
      "Enter a number: 11\n",
      "Do you want to end? (yes/no): yes\n",
      "[1, 1, 1, 0]\n"
     ]
    }
   ],
   "source": [
    "lst = []\n",
    "\n",
    "while True:\n",
    "    i = input('Enter a number: ')\n",
    "    if i.isdigit():\n",
    "        lst.append(int(i))\n",
    "    else:\n",
    "        print('Enter a valid number')\n",
    "        continue\n",
    "    Warning = input('Do you want to end? (yes/no): ')\n",
    "    if Warning == 'yes':\n",
    "        break\n",
    "        \n",
    "def is_armstrong(n):\n",
    "    p = len(str(n))\n",
    "    prev_n = n\n",
    "    sum = 0\n",
    "    while n > 0:\n",
    "        d = n%10\n",
    "        sum = sum + (d**p)\n",
    "        n = n // 10\n",
    "    if sum == prev_n:\n",
    "        return 1\n",
    "    else:\n",
    "        return 0\n",
    "\n",
    "new_list = [is_armstrong(n) for n in lst]\n",
    "print(new_list)"
   ]
  },
  {
   "cell_type": "code",
   "execution_count": 11,
   "id": "c0954098",
   "metadata": {},
   "outputs": [
    {
     "name": "stdout",
     "output_type": "stream",
     "text": [
      "Enter a number: 2\n",
      "2 is Prime number\n"
     ]
    }
   ],
   "source": [
    "n = int(input('Enter a number: '))\n",
    "\n",
    "def is_prime(n):\n",
    "    if n <= 1:\n",
    "        return 'Not a prime number'\n",
    "    else:\n",
    "        for i in range(2, int(n**0.5)+1):\n",
    "            if n%i == 0:\n",
    "                return 'Not a prime number'\n",
    "        return 'Prime number'\n",
    "    \n",
    "print(f\"{n} is {is_prime(n)}\")"
   ]
  },
  {
   "cell_type": "code",
   "execution_count": 13,
   "id": "0b2a828c",
   "metadata": {},
   "outputs": [
    {
     "name": "stdout",
     "output_type": "stream",
     "text": [
      "Enter a number: 25\n",
      "False\n"
     ]
    }
   ],
   "source": [
    "n = int(input('Enter a number: '))\n",
    "\n",
    "def is_prime(n):\n",
    "    prime = True\n",
    "    for i in range(2, n):\n",
    "        if n%i == 0:\n",
    "            prime = False\n",
    "            break\n",
    "    return prime\n",
    "\n",
    "result = is_prime(n)\n",
    "print(result)"
   ]
  },
  {
   "cell_type": "code",
   "execution_count": 16,
   "id": "3a2da611",
   "metadata": {},
   "outputs": [
    {
     "name": "stdout",
     "output_type": "stream",
     "text": [
      "1\n",
      "2\n",
      "fizz\n",
      "4\n",
      "buzz\n",
      "fizz\n",
      "7\n",
      "8\n",
      "fizz\n",
      "buzz\n",
      "11\n",
      "fizz\n",
      "13\n",
      "14\n",
      "fizzbuzz\n",
      "16\n",
      "17\n",
      "fizz\n",
      "19\n",
      "buzz\n",
      "fizz\n",
      "22\n",
      "23\n",
      "fizz\n",
      "buzz\n",
      "26\n",
      "fizz\n",
      "28\n",
      "29\n",
      "fizzbuzz\n"
     ]
    }
   ],
   "source": [
    "def fizzbuzz(n):\n",
    "    for i in range(1, n+1):\n",
    "        op = ''\n",
    "        if i % 3 == 0:\n",
    "            op = op + 'fizz'\n",
    "        if i % 5 == 0:\n",
    "            op = op + 'buzz'\n",
    "        print(op or i)\n",
    "        \n",
    "fizzbuzz(30)"
   ]
  },
  {
   "cell_type": "code",
   "execution_count": 18,
   "id": "818f0f48",
   "metadata": {},
   "outputs": [
    {
     "name": "stdout",
     "output_type": "stream",
     "text": [
      "Enter a number: 15\n",
      "Fibonacci series upto 15 terms is [0, 1, 1, 2, 3, 5, 8, 13, 21, 34, 55, 89, 144, 233]\n"
     ]
    }
   ],
   "source": [
    "n = int(input('Enter a number: '))\n",
    "\n",
    "def fib(n):\n",
    "    fib = []\n",
    "    a, b = 0, 1\n",
    "    for i in range(1, n):\n",
    "        fib.append(a)\n",
    "        a, b = b, a + b\n",
    "    return fib\n",
    "\n",
    "print(f\"Fibonacci series upto {n} terms is {fib(n)}\") "
   ]
  },
  {
   "cell_type": "code",
   "execution_count": 23,
   "id": "e1fa8d67",
   "metadata": {},
   "outputs": [
    {
     "name": "stdout",
     "output_type": "stream",
     "text": [
      "1\n",
      "1\n",
      "2\n",
      "3\n",
      "5\n",
      "8\n",
      "13\n",
      "21\n",
      "34\n",
      "55\n",
      "89\n",
      "144\n",
      "233\n",
      "377\n"
     ]
    }
   ],
   "source": [
    "n = int(input('Enter a number: '))\n",
    "\n",
    "def fib(n):\n",
    "    if n == 1 or n == 2:\n",
    "        return 1\n",
    "    else:\n",
    "        return fib(n-1) + fib(n - 2)\n",
    "\n",
    "for i in range(1,n):\n",
    "    print(fib(i))"
   ]
  },
  {
   "cell_type": "code",
   "execution_count": 5,
   "id": "5be081d7",
   "metadata": {},
   "outputs": [
    {
     "name": "stdout",
     "output_type": "stream",
     "text": [
      "Enter a number: 10\n",
      "[0, 1, 1, 2, 3, 5, 8, 13, 21, 34]\n"
     ]
    }
   ],
   "source": [
    "n = int(input('Enter a number: '))\n",
    "\n",
    "def fib(n):\n",
    "    if n == 1:\n",
    "        return 0\n",
    "    elif n == 2:\n",
    "        return 1\n",
    "    else:\n",
    "        return fib(n-1) + fib(n-2)\n",
    "\n",
    "sequence = [fib(i) for i in range(1, n+1)]\n",
    "print(sequence)"
   ]
  },
  {
   "cell_type": "code",
   "execution_count": 8,
   "id": "fb3d3ba1",
   "metadata": {},
   "outputs": [
    {
     "name": "stdout",
     "output_type": "stream",
     "text": [
      "Enter a number: 12345\n",
      "False\n"
     ]
    }
   ],
   "source": [
    "n = input('Enter a number: ')\n",
    "\n",
    "def is_palindrome(n):\n",
    "    m = n[::-1]\n",
    "    if m == n:\n",
    "        return True\n",
    "    else:\n",
    "        return False\n",
    "\n",
    "result = is_palindrome(n)\n",
    "print(result)"
   ]
  },
  {
   "cell_type": "code",
   "execution_count": 12,
   "id": "54eb01c7",
   "metadata": {},
   "outputs": [
    {
     "name": "stdout",
     "output_type": "stream",
     "text": [
      "Enter a number: 10\n",
      "True\n"
     ]
    }
   ],
   "source": [
    "n = input('Enter a number: ')\n",
    "\n",
    "def is_binary(n):\n",
    "    b = {'0', '1'}\n",
    "    set_n = set(str(n))\n",
    "    for i in set_n:\n",
    "        if i not in b:\n",
    "            return False\n",
    "    return True\n",
    "\n",
    "result = is_binary(n)\n",
    "print(result)"
   ]
  },
  {
   "cell_type": "code",
   "execution_count": 14,
   "id": "4b5858fa",
   "metadata": {},
   "outputs": [
    {
     "name": "stdout",
     "output_type": "stream",
     "text": [
      "Enter a number: 101010101\n",
      "True\n"
     ]
    }
   ],
   "source": [
    "n = input('Enter a number: ')\n",
    "\n",
    "def is_binary(n):\n",
    "    b = {'0', '1'}\n",
    "    set_n = set(n)\n",
    "    return set_n.issubset(b)\n",
    "\n",
    "result = is_binary(n)\n",
    "print(result)"
   ]
  },
  {
   "cell_type": "code",
   "execution_count": 15,
   "id": "ebdc9dd0",
   "metadata": {},
   "outputs": [
    {
     "name": "stdout",
     "output_type": "stream",
     "text": [
      "Enter the first number: 10\n",
      "Enter the second number: 20\n",
      "10\n"
     ]
    }
   ],
   "source": [
    "a = int(input('Enter the first number: '))\n",
    "b = int(input('Enter the second number: '))\n",
    "\n",
    "def gcd(a, b):\n",
    "    if a==0:\n",
    "        return a\n",
    "    elif b==0:\n",
    "        return b\n",
    "    elif a==b:\n",
    "        return a\n",
    "    elif a>b:\n",
    "        return gcd(a-b, b)\n",
    "    else:\n",
    "        return gcd(a, b-a)\n",
    "    \n",
    "print(gcd(a,b))"
   ]
  },
  {
   "cell_type": "code",
   "execution_count": 17,
   "id": "e5c8933b",
   "metadata": {},
   "outputs": [
    {
     "data": {
      "text/plain": [
       "40"
      ]
     },
     "execution_count": 17,
     "metadata": {},
     "output_type": "execute_result"
    }
   ],
   "source": [
    "# as LCM is always greater than or equal to both numbers, we set the larger one to variable g\n",
    "\n",
    "def lcm(x, y):\n",
    "    if x > y:\n",
    "        g = x\n",
    "    else:\n",
    "        g = y\n",
    "    while True:\n",
    "        if (g % x) == 0 and (g % y) == 0:\n",
    "            lcm = g\n",
    "            break\n",
    "        g = g + 1\n",
    "    return lcm\n",
    "\n",
    "lcm(20,40)"
   ]
  },
  {
   "cell_type": "code",
   "execution_count": 19,
   "id": "77edd81b",
   "metadata": {},
   "outputs": [
    {
     "name": "stdout",
     "output_type": "stream",
     "text": [
      "Enter a string: aidhasdiasdnsa\n",
      "aidhsn\n"
     ]
    }
   ],
   "source": [
    "st = input('Enter a string: ')\n",
    "\n",
    "def removerepeated(st):\n",
    "    s = set()\n",
    "    o = ''\n",
    "    for i in st:\n",
    "        if i not in s:\n",
    "            s.add(i)\n",
    "            o += i\n",
    "        else:\n",
    "            pass\n",
    "    return o\n",
    "\n",
    "result = removerepeated(st)\n",
    "print(result)"
   ]
  },
  {
   "cell_type": "code",
   "execution_count": 20,
   "id": "314a2273",
   "metadata": {},
   "outputs": [
    {
     "name": "stdout",
     "output_type": "stream",
     "text": [
      "Enter a list: 1 2 3 4 5 6 5 4 3 2 1\n",
      "{1, 2, 3, 4, 5, 6}\n"
     ]
    }
   ],
   "source": [
    "list_input = input('Enter a list: ')\n",
    "input_list = list(map(int, list_input.split()))\n",
    "\n",
    "removed_duplicates = set(input_list)\n",
    "print(removed_duplicates)"
   ]
  },
  {
   "cell_type": "code",
   "execution_count": 1,
   "id": "fcdc3130",
   "metadata": {},
   "outputs": [
    {
     "name": "stdout",
     "output_type": "stream",
     "text": [
      "Enter a stringhdbasdaibdoasudaduwagwuqbio\n",
      "bgwuoiadsqh\n"
     ]
    }
   ],
   "source": [
    "st = input('Enter a string')\n",
    "\n",
    "rem = set(st)\n",
    "s = ''\n",
    "for i in rem:\n",
    "    s += i\n",
    "\n",
    "print(s)"
   ]
  },
  {
   "cell_type": "code",
   "execution_count": 10,
   "id": "81d0b970",
   "metadata": {},
   "outputs": [
    {
     "name": "stdout",
     "output_type": "stream",
     "text": [
      "Enter a number: 10\n",
      "Do you want to end? (yes/no): \n",
      "Enter a number: 15\n",
      "Do you want to end? (yes/no): \n",
      "Enter a number: 20\n",
      "Do you want to end? (yes/no): \n",
      "Enter a number: 25\n",
      "Do you want to end? (yes/no): yes\n",
      "Enter the sum: 35\n",
      "Pairs with the sum 35 are [(15, 20), (10, 25)]\n"
     ]
    }
   ],
   "source": [
    "l = []\n",
    "\n",
    "while True:\n",
    "    j = input('Enter a number: ')\n",
    "    if j.isdigit():\n",
    "        l.append(int(j))\n",
    "    else:\n",
    "        print('Enter a valid integer!')\n",
    "        continue\n",
    "    Warning = input('Do you want to end? (yes/no): ')\n",
    "    if Warning == 'yes':\n",
    "        break\n",
    "        \n",
    "t = int(input('Enter the sum: '))\n",
    "\n",
    "def return_pair(l,t):\n",
    "    result = []\n",
    "    s = {}\n",
    "    for n, i in enumerate(l):\n",
    "        if (t-i) not in s:\n",
    "            s[i] = n\n",
    "        else:\n",
    "            result.append((t-i, i))\n",
    "    return result\n",
    "\n",
    "print(f\"Pairs with the sum {t} are {return_pair(l,t)}\")"
   ]
  },
  {
   "cell_type": "code",
   "execution_count": 7,
   "id": "6c130b59",
   "metadata": {},
   "outputs": [
    {
     "name": "stdout",
     "output_type": "stream",
     "text": [
      "Enter a number2\n",
      "Do you want to terminate? (yes/no): \n",
      "Enter a number4\n",
      "Do you want to terminate? (yes/no): \n",
      "Enter a number6\n",
      "Do you want to terminate? (yes/no): \n",
      "Enter a number8\n",
      "Do you want to terminate? (yes/no): \n",
      "Enter a number10\n",
      "Do you want to terminate? (yes/no): yes\n",
      "10\n",
      "2\n"
     ]
    }
   ],
   "source": [
    "l = []\n",
    "\n",
    "while True:\n",
    "    i = input('Enter a number')\n",
    "    if i.isdigit():\n",
    "            l.append(int(i))\n",
    "    else:\n",
    "        print('Enter a valid integer!')\n",
    "        continue\n",
    "    Warning = input('Do you want to terminate? (yes/no): ')\n",
    "    if Warning == 'yes':\n",
    "        break\n",
    "\n",
    "sorted_l = sorted(l)\n",
    "maxi = sorted_l[-1]\n",
    "mini = sorted_l[0]\n",
    "print(maxi)\n",
    "print(mini)"
   ]
  },
  {
   "cell_type": "code",
   "execution_count": null,
   "id": "d80da60f",
   "metadata": {},
   "outputs": [],
   "source": []
  }
 ],
 "metadata": {
  "kernelspec": {
   "display_name": "Python 3 (ipykernel)",
   "language": "python",
   "name": "python3"
  },
  "language_info": {
   "codemirror_mode": {
    "name": "ipython",
    "version": 3
   },
   "file_extension": ".py",
   "mimetype": "text/x-python",
   "name": "python",
   "nbconvert_exporter": "python",
   "pygments_lexer": "ipython3",
   "version": "3.11.5"
  }
 },
 "nbformat": 4,
 "nbformat_minor": 5
}
